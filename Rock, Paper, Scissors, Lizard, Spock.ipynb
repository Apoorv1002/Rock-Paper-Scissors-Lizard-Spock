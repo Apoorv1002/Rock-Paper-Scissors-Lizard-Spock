{
 "cells": [
  {
   "cell_type": "code",
   "execution_count": 10,
   "metadata": {},
   "outputs": [
    {
     "name": "stdout",
     "output_type": "stream",
     "text": [
      "Scissors cuts Paper, \n",
      "Paper covers Rock, \n",
      "Rock crushes Lizard, \n",
      "Lizard poisons Spock, \n",
      "Spock smashes Scissors, \n",
      "Scissors decapitates Lizard, \n",
      "Lizard eats Paper, \n",
      "Paper disproves Spock, \n",
      "Spock vaporises Rock, \n",
      "and — as it always has — Rock crushes Scissors.\n",
      "\n",
      "\n",
      "What do you select?\n",
      "Rock\n",
      "\n",
      "My Turn Now\n",
      "\n",
      "Ready?\n",
      "\n",
      "I select....\n",
      "Spock\n",
      "\n",
      "Spock vaporises Rock, I win!\n"
     ]
    }
   ],
   "source": [
    "import random\n",
    "import time\n",
    "choices=['Rock','Paper','Scissors','Lizard','Spock']\n",
    "print('Scissors cuts Paper,', '\\nPaper covers Rock,', '\\nRock crushes Lizard,', '\\nLizard poisons Spock,', '\\nSpock smashes Scissors,', '\\nScissors decapitates Lizard,', '\\nLizard eats Paper,', '\\nPaper disproves Spock,', '\\nSpock vaporises Rock,', '\\nand — as it always has — Rock crushes Scissors.')\n",
    "print('\\n\\nWhat do you select?')\n",
    "select=input()\n",
    "print('\\nMy Turn Now')\n",
    "time.sleep(3)\n",
    "print('\\nReady?')\n",
    "time.sleep(3)\n",
    "print('\\nI select....')\n",
    "time.sleep(5)\n",
    "auto_choice=random.choice(choices)\n",
    "print(auto_choice)\n",
    "if(select=='Rock'):\n",
    "    if(auto_choice=='Paper'):\n",
    "        print('\\nPaper covers Rock, I win!')\n",
    "    elif(auto_choice=='Lizard'):\n",
    "        print('\\nRock crushes Lizard, You win!')\n",
    "    elif(auto_choice=='Spock'):\n",
    "        print('\\nSpock vaporises Rock, I win!')\n",
    "    else:\n",
    "        print('\\nRock crushes Scissors, You win!')\n",
    "elif(select=='Paper'):\n",
    "    if(auto_choice=='Scissors'):\n",
    "        print('\\nScissors cuts Paper, I win!')\n",
    "    elif(auto_choice=='Rock'):\n",
    "        print('\\nPaper covers Rock, You win!')\n",
    "    elif(auto_choice=='Lizard'):\n",
    "        print('\\nLizard eats paper, I win!')\n",
    "    else:\n",
    "        print('\\nPaper disproves Spock, You win!')\n",
    "elif(select=='Scissors'):\n",
    "    if(auto_choice=='Lizard'):\n",
    "        print('\\nScissors decapitates Lizards, You win!')\n",
    "    elif(auto_choice=='Paper'):\n",
    "        print('\\nScissors cuts Paper, You win!')\n",
    "    elif(auto_choice=='Rock'):\n",
    "        print('\\nRock crushes Scissors, I win!')\n",
    "    else:\n",
    "        print('\\nSpock smashes Scissors, I win!')\n",
    "elif(select=='Lizard'):\n",
    "    if(auto_choice=='Scissors'):\n",
    "        print('\\nScissors decapitates Lizard, I win!')\n",
    "    elif(auto_choice=='Rock'):\n",
    "        print('\\nRock crushes Lizard, I win!')\n",
    "    elif(auto_choice=='Paper'):\n",
    "        print('\\nLizard eats paper, You win!')\n",
    "    else:\n",
    "        print('\\nLizard poisons Spock, You win!')\n",
    "elif(select=='Spock'):\n",
    "    if(auto_choice=='Scissors'):\n",
    "        print('\\nSpock smashes Scissors, You win!')\n",
    "    elif(auto_choice=='Rock'):\n",
    "        print('\\nSpock vaporises Rock, You win!')\n",
    "    elif(auto_choice=='Lizard'):\n",
    "        print('\\nLizard poisons Spock, I win!')\n",
    "    else:\n",
    "        print('\\nPaper disproves Spock, I win!')"
   ]
  },
  {
   "cell_type": "code",
   "execution_count": null,
   "metadata": {},
   "outputs": [],
   "source": []
  }
 ],
 "metadata": {
  "kernelspec": {
   "display_name": "Python 3 (ipykernel)",
   "language": "python",
   "name": "python3"
  },
  "language_info": {
   "codemirror_mode": {
    "name": "ipython",
    "version": 3
   },
   "file_extension": ".py",
   "mimetype": "text/x-python",
   "name": "python",
   "nbconvert_exporter": "python",
   "pygments_lexer": "ipython3",
   "version": "3.8.10"
  }
 },
 "nbformat": 4,
 "nbformat_minor": 2
}
